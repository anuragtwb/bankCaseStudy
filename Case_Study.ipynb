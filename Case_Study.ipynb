{
 "cells": [
  {
   "cell_type": "code",
   "execution_count": 79,
   "metadata": {},
   "outputs": [],
   "source": [
    "import pandas as pd\n",
    "import numpy as np\n",
    "import matplotlib.pyplot as plt\n",
    "import seaborn as sns\n",
    "import warnings as warnings"
   ]
  },
  {
   "cell_type": "code",
   "execution_count": 6,
   "metadata": {},
   "outputs": [],
   "source": [
    "df=pd.read_csv(\"Car details updated.csv\")"
   ]
  },
  {
   "cell_type": "code",
   "execution_count": 7,
   "metadata": {},
   "outputs": [
    {
     "data": {
      "text/html": [
       "<div>\n",
       "<style scoped>\n",
       "    .dataframe tbody tr th:only-of-type {\n",
       "        vertical-align: middle;\n",
       "    }\n",
       "\n",
       "    .dataframe tbody tr th {\n",
       "        vertical-align: top;\n",
       "    }\n",
       "\n",
       "    .dataframe thead th {\n",
       "        text-align: right;\n",
       "    }\n",
       "</style>\n",
       "<table border=\"1\" class=\"dataframe\">\n",
       "  <thead>\n",
       "    <tr style=\"text-align: right;\">\n",
       "      <th></th>\n",
       "      <th>Sales_ID</th>\n",
       "      <th>name</th>\n",
       "      <th>year</th>\n",
       "      <th>selling_price</th>\n",
       "      <th>km_driven</th>\n",
       "      <th>Region</th>\n",
       "      <th>State or Province</th>\n",
       "      <th>City</th>\n",
       "      <th>fuel</th>\n",
       "      <th>seller_type</th>\n",
       "      <th>transmission</th>\n",
       "      <th>owner</th>\n",
       "      <th>mileage</th>\n",
       "      <th>engine</th>\n",
       "      <th>max_power</th>\n",
       "      <th>torque</th>\n",
       "      <th>seats</th>\n",
       "      <th>sold</th>\n",
       "    </tr>\n",
       "  </thead>\n",
       "  <tbody>\n",
       "    <tr>\n",
       "      <th>0</th>\n",
       "      <td>1</td>\n",
       "      <td>Maruti Swift Dzire VDI</td>\n",
       "      <td>2014</td>\n",
       "      <td>450000</td>\n",
       "      <td>145500</td>\n",
       "      <td>East</td>\n",
       "      <td>District of Columbia</td>\n",
       "      <td>Washington</td>\n",
       "      <td>Diesel</td>\n",
       "      <td>Individual</td>\n",
       "      <td>Manual</td>\n",
       "      <td>First Owner</td>\n",
       "      <td>23.4 kmpl</td>\n",
       "      <td>1248 CC</td>\n",
       "      <td>74 bhp</td>\n",
       "      <td>190Nm@ 2000rpm</td>\n",
       "      <td>5</td>\n",
       "      <td>Y</td>\n",
       "    </tr>\n",
       "    <tr>\n",
       "      <th>1</th>\n",
       "      <td>2</td>\n",
       "      <td>Skoda Rapid 1.5 TDI Ambition</td>\n",
       "      <td>2014</td>\n",
       "      <td>370000</td>\n",
       "      <td>120000</td>\n",
       "      <td>East</td>\n",
       "      <td>New York</td>\n",
       "      <td>New York City</td>\n",
       "      <td>Diesel</td>\n",
       "      <td>Individual</td>\n",
       "      <td>Manual</td>\n",
       "      <td>Second Owner</td>\n",
       "      <td>21.14 kmpl</td>\n",
       "      <td>1498 CC</td>\n",
       "      <td>103.52 bhp</td>\n",
       "      <td>250Nm@ 1500-2500rpm</td>\n",
       "      <td>5</td>\n",
       "      <td>Y</td>\n",
       "    </tr>\n",
       "    <tr>\n",
       "      <th>2</th>\n",
       "      <td>3</td>\n",
       "      <td>Honda City 2017-2020 EXi</td>\n",
       "      <td>2006</td>\n",
       "      <td>158000</td>\n",
       "      <td>140000</td>\n",
       "      <td>Central</td>\n",
       "      <td>Illinois</td>\n",
       "      <td>Chicago</td>\n",
       "      <td>Petrol</td>\n",
       "      <td>Individual</td>\n",
       "      <td>Manual</td>\n",
       "      <td>Third Owner</td>\n",
       "      <td>17.7 kmpl</td>\n",
       "      <td>1497 CC</td>\n",
       "      <td>78 bhp</td>\n",
       "      <td>12.7@ 2,700(kgm@ rpm)</td>\n",
       "      <td>5</td>\n",
       "      <td>Y</td>\n",
       "    </tr>\n",
       "    <tr>\n",
       "      <th>3</th>\n",
       "      <td>4</td>\n",
       "      <td>Hyundai i20 Sportz Diesel</td>\n",
       "      <td>2010</td>\n",
       "      <td>225000</td>\n",
       "      <td>127000</td>\n",
       "      <td>Central</td>\n",
       "      <td>Illinois</td>\n",
       "      <td>Chicago</td>\n",
       "      <td>Diesel</td>\n",
       "      <td>Individual</td>\n",
       "      <td>Manual</td>\n",
       "      <td>First Owner</td>\n",
       "      <td>23.0 kmpl</td>\n",
       "      <td>1396 CC</td>\n",
       "      <td>90 bhp</td>\n",
       "      <td>22.4 kgm at 1750-2750rpm</td>\n",
       "      <td>5</td>\n",
       "      <td>Y</td>\n",
       "    </tr>\n",
       "    <tr>\n",
       "      <th>4</th>\n",
       "      <td>5</td>\n",
       "      <td>Maruti Swift VXI BSIII</td>\n",
       "      <td>2007</td>\n",
       "      <td>130000</td>\n",
       "      <td>120000</td>\n",
       "      <td>East</td>\n",
       "      <td>New York</td>\n",
       "      <td>New York City</td>\n",
       "      <td>Petrol</td>\n",
       "      <td>Individual</td>\n",
       "      <td>Manual</td>\n",
       "      <td>First Owner</td>\n",
       "      <td>16.1 kmpl</td>\n",
       "      <td>1298 CC</td>\n",
       "      <td>88.2 bhp</td>\n",
       "      <td>11.5@ 4,500(kgm@ rpm)</td>\n",
       "      <td>5</td>\n",
       "      <td>Y</td>\n",
       "    </tr>\n",
       "  </tbody>\n",
       "</table>\n",
       "</div>"
      ],
      "text/plain": [
       "   Sales_ID                          name  year  selling_price  km_driven  \\\n",
       "0         1        Maruti Swift Dzire VDI  2014         450000     145500   \n",
       "1         2  Skoda Rapid 1.5 TDI Ambition  2014         370000     120000   \n",
       "2         3      Honda City 2017-2020 EXi  2006         158000     140000   \n",
       "3         4     Hyundai i20 Sportz Diesel  2010         225000     127000   \n",
       "4         5        Maruti Swift VXI BSIII  2007         130000     120000   \n",
       "\n",
       "    Region     State or Province           City    fuel seller_type  \\\n",
       "0     East  District of Columbia     Washington  Diesel  Individual   \n",
       "1     East              New York  New York City  Diesel  Individual   \n",
       "2  Central              Illinois        Chicago  Petrol  Individual   \n",
       "3  Central              Illinois        Chicago  Diesel  Individual   \n",
       "4     East              New York  New York City  Petrol  Individual   \n",
       "\n",
       "  transmission         owner     mileage   engine   max_power  \\\n",
       "0       Manual   First Owner   23.4 kmpl  1248 CC      74 bhp   \n",
       "1       Manual  Second Owner  21.14 kmpl  1498 CC  103.52 bhp   \n",
       "2       Manual   Third Owner   17.7 kmpl  1497 CC      78 bhp   \n",
       "3       Manual   First Owner   23.0 kmpl  1396 CC      90 bhp   \n",
       "4       Manual   First Owner   16.1 kmpl  1298 CC    88.2 bhp   \n",
       "\n",
       "                     torque  seats sold  \n",
       "0            190Nm@ 2000rpm      5    Y  \n",
       "1       250Nm@ 1500-2500rpm      5    Y  \n",
       "2     12.7@ 2,700(kgm@ rpm)      5    Y  \n",
       "3  22.4 kgm at 1750-2750rpm      5    Y  \n",
       "4     11.5@ 4,500(kgm@ rpm)      5    Y  "
      ]
     },
     "execution_count": 7,
     "metadata": {},
     "output_type": "execute_result"
    }
   ],
   "source": [
    "df.head()"
   ]
  },
  {
   "cell_type": "code",
   "execution_count": 8,
   "metadata": {},
   "outputs": [
    {
     "data": {
      "text/plain": [
       "(7906, 18)"
      ]
     },
     "execution_count": 8,
     "metadata": {},
     "output_type": "execute_result"
    }
   ],
   "source": [
    "df.shape"
   ]
  },
  {
   "cell_type": "code",
   "execution_count": 13,
   "metadata": {},
   "outputs": [
    {
     "data": {
      "text/plain": [
       "Sales_ID             0\n",
       "name                 0\n",
       "year                 0\n",
       "selling_price        0\n",
       "km_driven            0\n",
       "Region               0\n",
       "State or Province    0\n",
       "City                 0\n",
       "fuel                 0\n",
       "seller_type          0\n",
       "transmission         0\n",
       "owner                0\n",
       "mileage              0\n",
       "engine               0\n",
       "max_power            0\n",
       "torque               0\n",
       "seats                0\n",
       "sold                 0\n",
       "dtype: int64"
      ]
     },
     "execution_count": 13,
     "metadata": {},
     "output_type": "execute_result"
    }
   ],
   "source": [
    "df.isnull().sum()"
   ]
  },
  {
   "cell_type": "markdown",
   "metadata": {},
   "source": [
    "####  As in given data the shape of data is is having 7906 rows and 18 coloumns with no null values so here no need to apply imputation technique"
   ]
  },
  {
   "cell_type": "markdown",
   "metadata": {},
   "source": [
    "# What factor affect the most on selling price?\n"
   ]
  },
  {
   "cell_type": "code",
   "execution_count": 14,
   "metadata": {},
   "outputs": [
    {
     "data": {
      "text/plain": [
       "array(['Diesel', 'Petrol', 'LPG', 'CNG'], dtype=object)"
      ]
     },
     "execution_count": 14,
     "metadata": {},
     "output_type": "execute_result"
    }
   ],
   "source": [
    "df['fuel'].unique()"
   ]
  },
  {
   "cell_type": "code",
   "execution_count": 16,
   "metadata": {},
   "outputs": [
    {
     "data": {
      "text/plain": [
       "array(['Y', 'N'], dtype=object)"
      ]
     },
     "execution_count": 16,
     "metadata": {},
     "output_type": "execute_result"
    }
   ],
   "source": [
    "df['sold'].unique()"
   ]
  },
  {
   "cell_type": "code",
   "execution_count": 74,
   "metadata": {},
   "outputs": [],
   "source": [
    "fact=df[df['sold']=='Y'][['year','selling_price','km_driven','fuel','transmission','engine','name']]"
   ]
  },
  {
   "cell_type": "code",
   "execution_count": 75,
   "metadata": {},
   "outputs": [
    {
     "data": {
      "text/html": [
       "<style  type=\"text/css\" >\n",
       "    #T_b6c0027f_809b_11eb_8521_e4029b1a06b6row0_col0 {\n",
       "            background-color:  #000000;\n",
       "            color:  #f1f1f1;\n",
       "        }    #T_b6c0027f_809b_11eb_8521_e4029b1a06b6row0_col1 {\n",
       "            background-color:  #070718;\n",
       "            color:  #f1f1f1;\n",
       "        }    #T_b6c0027f_809b_11eb_8521_e4029b1a06b6row0_col2 {\n",
       "            background-color:  #e6c425;\n",
       "            color:  #000000;\n",
       "        }    #T_b6c0027f_809b_11eb_8521_e4029b1a06b6row1_col0 {\n",
       "            background-color:  #38269e;\n",
       "            color:  #f1f1f1;\n",
       "        }    #T_b6c0027f_809b_11eb_8521_e4029b1a06b6row1_col1 {\n",
       "            background-color:  #000000;\n",
       "            color:  #f1f1f1;\n",
       "        }    #T_b6c0027f_809b_11eb_8521_e4029b1a06b6row1_col2 {\n",
       "            background-color:  #352698;\n",
       "            color:  #f1f1f1;\n",
       "        }    #T_b6c0027f_809b_11eb_8521_e4029b1a06b6row2_col0 {\n",
       "            background-color:  #38269e;\n",
       "            color:  #f1f1f1;\n",
       "        }    #T_b6c0027f_809b_11eb_8521_e4029b1a06b6row2_col1 {\n",
       "            background-color:  #3c26a4;\n",
       "            color:  #f1f1f1;\n",
       "        }    #T_b6c0027f_809b_11eb_8521_e4029b1a06b6row2_col2 {\n",
       "            background-color:  #782e9b;\n",
       "            color:  #f1f1f1;\n",
       "        }    #T_b6c0027f_809b_11eb_8521_e4029b1a06b6row3_col0 {\n",
       "            background-color:  #4c26be;\n",
       "            color:  #f1f1f1;\n",
       "        }    #T_b6c0027f_809b_11eb_8521_e4029b1a06b6row3_col1 {\n",
       "            background-color:  #e77d02;\n",
       "            color:  #000000;\n",
       "        }    #T_b6c0027f_809b_11eb_8521_e4029b1a06b6row3_col2 {\n",
       "            background-color:  #0b0b24;\n",
       "            color:  #f1f1f1;\n",
       "        }    #T_b6c0027f_809b_11eb_8521_e4029b1a06b6row4_col0 {\n",
       "            background-color:  #983381;\n",
       "            color:  #f1f1f1;\n",
       "        }    #T_b6c0027f_809b_11eb_8521_e4029b1a06b6row4_col1 {\n",
       "            background-color:  #4c26be;\n",
       "            color:  #f1f1f1;\n",
       "        }    #T_b6c0027f_809b_11eb_8521_e4029b1a06b6row4_col2 {\n",
       "            background-color:  #fd4028;\n",
       "            color:  #f1f1f1;\n",
       "        }    #T_b6c0027f_809b_11eb_8521_e4029b1a06b6row5_col0 {\n",
       "            background-color:  #ca3954;\n",
       "            color:  #f1f1f1;\n",
       "        }    #T_b6c0027f_809b_11eb_8521_e4029b1a06b6row5_col1 {\n",
       "            background-color:  #f35d15;\n",
       "            color:  #000000;\n",
       "        }    #T_b6c0027f_809b_11eb_8521_e4029b1a06b6row5_col2 {\n",
       "            background-color:  #602aaf;\n",
       "            color:  #f1f1f1;\n",
       "        }    #T_b6c0027f_809b_11eb_8521_e4029b1a06b6row6_col0 {\n",
       "            background-color:  #e67f00;\n",
       "            color:  #000000;\n",
       "        }    #T_b6c0027f_809b_11eb_8521_e4029b1a06b6row6_col1 {\n",
       "            background-color:  #e6cc3c;\n",
       "            color:  #000000;\n",
       "        }    #T_b6c0027f_809b_11eb_8521_e4029b1a06b6row6_col2 {\n",
       "            background-color:  #782e9b;\n",
       "            color:  #f1f1f1;\n",
       "        }    #T_b6c0027f_809b_11eb_8521_e4029b1a06b6row7_col0 {\n",
       "            background-color:  #e67f00;\n",
       "            color:  #000000;\n",
       "        }    #T_b6c0027f_809b_11eb_8521_e4029b1a06b6row7_col1 {\n",
       "            background-color:  #e6e57f;\n",
       "            color:  #000000;\n",
       "        }    #T_b6c0027f_809b_11eb_8521_e4029b1a06b6row7_col2 {\n",
       "            background-color:  #000000;\n",
       "            color:  #f1f1f1;\n",
       "        }    #T_b6c0027f_809b_11eb_8521_e4029b1a06b6row8_col0 {\n",
       "            background-color:  #e69f0d;\n",
       "            color:  #000000;\n",
       "        }    #T_b6c0027f_809b_11eb_8521_e4029b1a06b6row8_col1 {\n",
       "            background-color:  #e6b114;\n",
       "            color:  #000000;\n",
       "        }    #T_b6c0027f_809b_11eb_8521_e4029b1a06b6row8_col2 {\n",
       "            background-color:  #3e26a8;\n",
       "            color:  #f1f1f1;\n",
       "        }    #T_b6c0027f_809b_11eb_8521_e4029b1a06b6row9_col0 {\n",
       "            background-color:  #ffffff;\n",
       "            color:  #000000;\n",
       "        }    #T_b6c0027f_809b_11eb_8521_e4029b1a06b6row9_col1 {\n",
       "            background-color:  #ffffff;\n",
       "            color:  #000000;\n",
       "        }    #T_b6c0027f_809b_11eb_8521_e4029b1a06b6row9_col2 {\n",
       "            background-color:  #ffffff;\n",
       "            color:  #000000;\n",
       "        }</style><table id=\"T_b6c0027f_809b_11eb_8521_e4029b1a06b6\" ><thead>    <tr>        <th class=\"blank level0\" ></th>        <th class=\"col_heading level0 col0\" >year</th>        <th class=\"col_heading level0 col1\" >selling_price</th>        <th class=\"col_heading level0 col2\" >km_driven</th>        <th class=\"col_heading level0 col3\" >fuel</th>        <th class=\"col_heading level0 col4\" >transmission</th>        <th class=\"col_heading level0 col5\" >engine</th>        <th class=\"col_heading level0 col6\" >name</th>    </tr></thead><tbody>\n",
       "                <tr>\n",
       "                        <th id=\"T_b6c0027f_809b_11eb_8521_e4029b1a06b6level0_row0\" class=\"row_heading level0 row0\" >5</th>\n",
       "                        <td id=\"T_b6c0027f_809b_11eb_8521_e4029b1a06b6row0_col0\" class=\"data row0 col0\" >2017</td>\n",
       "                        <td id=\"T_b6c0027f_809b_11eb_8521_e4029b1a06b6row0_col1\" class=\"data row0 col1\" >440000</td>\n",
       "                        <td id=\"T_b6c0027f_809b_11eb_8521_e4029b1a06b6row0_col2\" class=\"data row0 col2\" >45000</td>\n",
       "                        <td id=\"T_b6c0027f_809b_11eb_8521_e4029b1a06b6row0_col3\" class=\"data row0 col3\" >Petrol</td>\n",
       "                        <td id=\"T_b6c0027f_809b_11eb_8521_e4029b1a06b6row0_col4\" class=\"data row0 col4\" >Manual</td>\n",
       "                        <td id=\"T_b6c0027f_809b_11eb_8521_e4029b1a06b6row0_col5\" class=\"data row0 col5\" >1197 CC</td>\n",
       "                        <td id=\"T_b6c0027f_809b_11eb_8521_e4029b1a06b6row0_col6\" class=\"data row0 col6\" >Hyundai Xcent 1.2 VTVT E Plus</td>\n",
       "            </tr>\n",
       "            <tr>\n",
       "                        <th id=\"T_b6c0027f_809b_11eb_8521_e4029b1a06b6level0_row1\" class=\"row_heading level0 row1\" >0</th>\n",
       "                        <td id=\"T_b6c0027f_809b_11eb_8521_e4029b1a06b6row1_col0\" class=\"data row1 col0\" >2014</td>\n",
       "                        <td id=\"T_b6c0027f_809b_11eb_8521_e4029b1a06b6row1_col1\" class=\"data row1 col1\" >450000</td>\n",
       "                        <td id=\"T_b6c0027f_809b_11eb_8521_e4029b1a06b6row1_col2\" class=\"data row1 col2\" >145500</td>\n",
       "                        <td id=\"T_b6c0027f_809b_11eb_8521_e4029b1a06b6row1_col3\" class=\"data row1 col3\" >Diesel</td>\n",
       "                        <td id=\"T_b6c0027f_809b_11eb_8521_e4029b1a06b6row1_col4\" class=\"data row1 col4\" >Manual</td>\n",
       "                        <td id=\"T_b6c0027f_809b_11eb_8521_e4029b1a06b6row1_col5\" class=\"data row1 col5\" >1248 CC</td>\n",
       "                        <td id=\"T_b6c0027f_809b_11eb_8521_e4029b1a06b6row1_col6\" class=\"data row1 col6\" >Maruti Swift Dzire VDI</td>\n",
       "            </tr>\n",
       "            <tr>\n",
       "                        <th id=\"T_b6c0027f_809b_11eb_8521_e4029b1a06b6level0_row2\" class=\"row_heading level0 row2\" >1</th>\n",
       "                        <td id=\"T_b6c0027f_809b_11eb_8521_e4029b1a06b6row2_col0\" class=\"data row2 col0\" >2014</td>\n",
       "                        <td id=\"T_b6c0027f_809b_11eb_8521_e4029b1a06b6row2_col1\" class=\"data row2 col1\" >370000</td>\n",
       "                        <td id=\"T_b6c0027f_809b_11eb_8521_e4029b1a06b6row2_col2\" class=\"data row2 col2\" >120000</td>\n",
       "                        <td id=\"T_b6c0027f_809b_11eb_8521_e4029b1a06b6row2_col3\" class=\"data row2 col3\" >Diesel</td>\n",
       "                        <td id=\"T_b6c0027f_809b_11eb_8521_e4029b1a06b6row2_col4\" class=\"data row2 col4\" >Manual</td>\n",
       "                        <td id=\"T_b6c0027f_809b_11eb_8521_e4029b1a06b6row2_col5\" class=\"data row2 col5\" >1498 CC</td>\n",
       "                        <td id=\"T_b6c0027f_809b_11eb_8521_e4029b1a06b6row2_col6\" class=\"data row2 col6\" >Skoda Rapid 1.5 TDI Ambition</td>\n",
       "            </tr>\n",
       "            <tr>\n",
       "                        <th id=\"T_b6c0027f_809b_11eb_8521_e4029b1a06b6level0_row3\" class=\"row_heading level0 row3\" >9</th>\n",
       "                        <td id=\"T_b6c0027f_809b_11eb_8521_e4029b1a06b6row3_col0\" class=\"data row3 col0\" >2013</td>\n",
       "                        <td id=\"T_b6c0027f_809b_11eb_8521_e4029b1a06b6row3_col1\" class=\"data row3 col1\" >200000</td>\n",
       "                        <td id=\"T_b6c0027f_809b_11eb_8521_e4029b1a06b6row3_col2\" class=\"data row3 col2\" >169000</td>\n",
       "                        <td id=\"T_b6c0027f_809b_11eb_8521_e4029b1a06b6row3_col3\" class=\"data row3 col3\" >Diesel</td>\n",
       "                        <td id=\"T_b6c0027f_809b_11eb_8521_e4029b1a06b6row3_col4\" class=\"data row3 col4\" >Manual</td>\n",
       "                        <td id=\"T_b6c0027f_809b_11eb_8521_e4029b1a06b6row3_col5\" class=\"data row3 col5\" >1399 CC</td>\n",
       "                        <td id=\"T_b6c0027f_809b_11eb_8521_e4029b1a06b6row3_col6\" class=\"data row3 col6\" >Ford Figo Diesel Celebration Edition</td>\n",
       "            </tr>\n",
       "            <tr>\n",
       "                        <th id=\"T_b6c0027f_809b_11eb_8521_e4029b1a06b6level0_row4\" class=\"row_heading level0 row4\" >8</th>\n",
       "                        <td id=\"T_b6c0027f_809b_11eb_8521_e4029b1a06b6row4_col0\" class=\"data row4 col0\" >2011</td>\n",
       "                        <td id=\"T_b6c0027f_809b_11eb_8521_e4029b1a06b6row4_col1\" class=\"data row4 col1\" >350000</td>\n",
       "                        <td id=\"T_b6c0027f_809b_11eb_8521_e4029b1a06b6row4_col2\" class=\"data row4 col2\" >90000</td>\n",
       "                        <td id=\"T_b6c0027f_809b_11eb_8521_e4029b1a06b6row4_col3\" class=\"data row4 col3\" >Diesel</td>\n",
       "                        <td id=\"T_b6c0027f_809b_11eb_8521_e4029b1a06b6row4_col4\" class=\"data row4 col4\" >Manual</td>\n",
       "                        <td id=\"T_b6c0027f_809b_11eb_8521_e4029b1a06b6row4_col5\" class=\"data row4 col5\" >1364 CC</td>\n",
       "                        <td id=\"T_b6c0027f_809b_11eb_8521_e4029b1a06b6row4_col6\" class=\"data row4 col6\" >Toyota Etios VXD</td>\n",
       "            </tr>\n",
       "            <tr>\n",
       "                        <th id=\"T_b6c0027f_809b_11eb_8521_e4029b1a06b6level0_row5\" class=\"row_heading level0 row5\" >3</th>\n",
       "                        <td id=\"T_b6c0027f_809b_11eb_8521_e4029b1a06b6row5_col0\" class=\"data row5 col0\" >2010</td>\n",
       "                        <td id=\"T_b6c0027f_809b_11eb_8521_e4029b1a06b6row5_col1\" class=\"data row5 col1\" >225000</td>\n",
       "                        <td id=\"T_b6c0027f_809b_11eb_8521_e4029b1a06b6row5_col2\" class=\"data row5 col2\" >127000</td>\n",
       "                        <td id=\"T_b6c0027f_809b_11eb_8521_e4029b1a06b6row5_col3\" class=\"data row5 col3\" >Diesel</td>\n",
       "                        <td id=\"T_b6c0027f_809b_11eb_8521_e4029b1a06b6row5_col4\" class=\"data row5 col4\" >Manual</td>\n",
       "                        <td id=\"T_b6c0027f_809b_11eb_8521_e4029b1a06b6row5_col5\" class=\"data row5 col5\" >1396 CC</td>\n",
       "                        <td id=\"T_b6c0027f_809b_11eb_8521_e4029b1a06b6row5_col6\" class=\"data row5 col6\" >Hyundai i20 Sportz Diesel</td>\n",
       "            </tr>\n",
       "            <tr>\n",
       "                        <th id=\"T_b6c0027f_809b_11eb_8521_e4029b1a06b6level0_row6\" class=\"row_heading level0 row6\" >4</th>\n",
       "                        <td id=\"T_b6c0027f_809b_11eb_8521_e4029b1a06b6row6_col0\" class=\"data row6 col0\" >2007</td>\n",
       "                        <td id=\"T_b6c0027f_809b_11eb_8521_e4029b1a06b6row6_col1\" class=\"data row6 col1\" >130000</td>\n",
       "                        <td id=\"T_b6c0027f_809b_11eb_8521_e4029b1a06b6row6_col2\" class=\"data row6 col2\" >120000</td>\n",
       "                        <td id=\"T_b6c0027f_809b_11eb_8521_e4029b1a06b6row6_col3\" class=\"data row6 col3\" >Petrol</td>\n",
       "                        <td id=\"T_b6c0027f_809b_11eb_8521_e4029b1a06b6row6_col4\" class=\"data row6 col4\" >Manual</td>\n",
       "                        <td id=\"T_b6c0027f_809b_11eb_8521_e4029b1a06b6row6_col5\" class=\"data row6 col5\" >1298 CC</td>\n",
       "                        <td id=\"T_b6c0027f_809b_11eb_8521_e4029b1a06b6row6_col6\" class=\"data row6 col6\" >Maruti Swift VXI BSIII</td>\n",
       "            </tr>\n",
       "            <tr>\n",
       "                        <th id=\"T_b6c0027f_809b_11eb_8521_e4029b1a06b6level0_row7\" class=\"row_heading level0 row7\" >6</th>\n",
       "                        <td id=\"T_b6c0027f_809b_11eb_8521_e4029b1a06b6row7_col0\" class=\"data row7 col0\" >2007</td>\n",
       "                        <td id=\"T_b6c0027f_809b_11eb_8521_e4029b1a06b6row7_col1\" class=\"data row7 col1\" >96000</td>\n",
       "                        <td id=\"T_b6c0027f_809b_11eb_8521_e4029b1a06b6row7_col2\" class=\"data row7 col2\" >175000</td>\n",
       "                        <td id=\"T_b6c0027f_809b_11eb_8521_e4029b1a06b6row7_col3\" class=\"data row7 col3\" >LPG</td>\n",
       "                        <td id=\"T_b6c0027f_809b_11eb_8521_e4029b1a06b6row7_col4\" class=\"data row7 col4\" >Manual</td>\n",
       "                        <td id=\"T_b6c0027f_809b_11eb_8521_e4029b1a06b6row7_col5\" class=\"data row7 col5\" >1061 CC</td>\n",
       "                        <td id=\"T_b6c0027f_809b_11eb_8521_e4029b1a06b6row7_col6\" class=\"data row7 col6\" >Maruti Wagon R LXI DUO BSIII</td>\n",
       "            </tr>\n",
       "            <tr>\n",
       "                        <th id=\"T_b6c0027f_809b_11eb_8521_e4029b1a06b6level0_row8\" class=\"row_heading level0 row8\" >2</th>\n",
       "                        <td id=\"T_b6c0027f_809b_11eb_8521_e4029b1a06b6row8_col0\" class=\"data row8 col0\" >2006</td>\n",
       "                        <td id=\"T_b6c0027f_809b_11eb_8521_e4029b1a06b6row8_col1\" class=\"data row8 col1\" >158000</td>\n",
       "                        <td id=\"T_b6c0027f_809b_11eb_8521_e4029b1a06b6row8_col2\" class=\"data row8 col2\" >140000</td>\n",
       "                        <td id=\"T_b6c0027f_809b_11eb_8521_e4029b1a06b6row8_col3\" class=\"data row8 col3\" >Petrol</td>\n",
       "                        <td id=\"T_b6c0027f_809b_11eb_8521_e4029b1a06b6row8_col4\" class=\"data row8 col4\" >Manual</td>\n",
       "                        <td id=\"T_b6c0027f_809b_11eb_8521_e4029b1a06b6row8_col5\" class=\"data row8 col5\" >1497 CC</td>\n",
       "                        <td id=\"T_b6c0027f_809b_11eb_8521_e4029b1a06b6row8_col6\" class=\"data row8 col6\" >Honda City 2017-2020 EXi</td>\n",
       "            </tr>\n",
       "            <tr>\n",
       "                        <th id=\"T_b6c0027f_809b_11eb_8521_e4029b1a06b6level0_row9\" class=\"row_heading level0 row9\" >7</th>\n",
       "                        <td id=\"T_b6c0027f_809b_11eb_8521_e4029b1a06b6row9_col0\" class=\"data row9 col0\" >2001</td>\n",
       "                        <td id=\"T_b6c0027f_809b_11eb_8521_e4029b1a06b6row9_col1\" class=\"data row9 col1\" >45000</td>\n",
       "                        <td id=\"T_b6c0027f_809b_11eb_8521_e4029b1a06b6row9_col2\" class=\"data row9 col2\" >5000</td>\n",
       "                        <td id=\"T_b6c0027f_809b_11eb_8521_e4029b1a06b6row9_col3\" class=\"data row9 col3\" >Petrol</td>\n",
       "                        <td id=\"T_b6c0027f_809b_11eb_8521_e4029b1a06b6row9_col4\" class=\"data row9 col4\" >Manual</td>\n",
       "                        <td id=\"T_b6c0027f_809b_11eb_8521_e4029b1a06b6row9_col5\" class=\"data row9 col5\" >796 CC</td>\n",
       "                        <td id=\"T_b6c0027f_809b_11eb_8521_e4029b1a06b6row9_col6\" class=\"data row9 col6\" >Maruti 800 DX BSII</td>\n",
       "            </tr>\n",
       "    </tbody></table>"
      ],
      "text/plain": [
       "<pandas.io.formats.style.Styler at 0x154161eb1c0>"
      ]
     },
     "metadata": {},
     "output_type": "display_data"
    }
   ],
   "source": [
    "display(fact.head(10).sort_values(by='year',ascending=False).style.background_gradient(cmap='CMRmap_r'))"
   ]
  },
  {
   "cell_type": "code",
   "execution_count": 72,
   "metadata": {},
   "outputs": [
    {
     "data": {
      "text/html": [
       "<style  type=\"text/css\" >\n",
       "    #T_aa609392_809b_11eb_95c0_e4029b1a06b6row0_col0 {\n",
       "            background-color:  #000000;\n",
       "            color:  #f1f1f1;\n",
       "        }    #T_aa609392_809b_11eb_95c0_e4029b1a06b6row0_col1 {\n",
       "            background-color:  #ededa7;\n",
       "            color:  #000000;\n",
       "        }    #T_aa609392_809b_11eb_95c0_e4029b1a06b6row0_col2 {\n",
       "            background-color:  #f9f9e3;\n",
       "            color:  #000000;\n",
       "        }    #T_aa609392_809b_11eb_95c0_e4029b1a06b6row1_col0 {\n",
       "            background-color:  #000000;\n",
       "            color:  #f1f1f1;\n",
       "        }    #T_aa609392_809b_11eb_95c0_e4029b1a06b6row1_col1 {\n",
       "            background-color:  #ededa7;\n",
       "            color:  #000000;\n",
       "        }    #T_aa609392_809b_11eb_95c0_e4029b1a06b6row1_col2 {\n",
       "            background-color:  #f9f9e3;\n",
       "            color:  #000000;\n",
       "        }    #T_aa609392_809b_11eb_95c0_e4029b1a06b6row2_col0 {\n",
       "            background-color:  #fd4028;\n",
       "            color:  #f1f1f1;\n",
       "        }    #T_aa609392_809b_11eb_95c0_e4029b1a06b6row2_col1 {\n",
       "            background-color:  #e6d552;\n",
       "            color:  #000000;\n",
       "        }    #T_aa609392_809b_11eb_95c0_e4029b1a06b6row2_col2 {\n",
       "            background-color:  #ffffff;\n",
       "            color:  #000000;\n",
       "        }    #T_aa609392_809b_11eb_95c0_e4029b1a06b6row3_col0 {\n",
       "            background-color:  #fd4028;\n",
       "            color:  #f1f1f1;\n",
       "        }    #T_aa609392_809b_11eb_95c0_e4029b1a06b6row3_col1 {\n",
       "            background-color:  #e6df6f;\n",
       "            color:  #000000;\n",
       "        }    #T_aa609392_809b_11eb_95c0_e4029b1a06b6row3_col2 {\n",
       "            background-color:  #e6bd18;\n",
       "            color:  #000000;\n",
       "        }    #T_aa609392_809b_11eb_95c0_e4029b1a06b6row4_col0 {\n",
       "            background-color:  #fd4028;\n",
       "            color:  #f1f1f1;\n",
       "        }    #T_aa609392_809b_11eb_95c0_e4029b1a06b6row4_col1 {\n",
       "            background-color:  #e6d552;\n",
       "            color:  #000000;\n",
       "        }    #T_aa609392_809b_11eb_95c0_e4029b1a06b6row4_col2 {\n",
       "            background-color:  #ffffff;\n",
       "            color:  #000000;\n",
       "        }    #T_aa609392_809b_11eb_95c0_e4029b1a06b6row5_col0 {\n",
       "            background-color:  #e6bf19;\n",
       "            color:  #000000;\n",
       "        }    #T_aa609392_809b_11eb_95c0_e4029b1a06b6row5_col1 {\n",
       "            background-color:  #000000;\n",
       "            color:  #f1f1f1;\n",
       "        }    #T_aa609392_809b_11eb_95c0_e4029b1a06b6row5_col2 {\n",
       "            background-color:  #953283;\n",
       "            color:  #f1f1f1;\n",
       "        }    #T_aa609392_809b_11eb_95c0_e4029b1a06b6row6_col0 {\n",
       "            background-color:  #e6bf19;\n",
       "            color:  #000000;\n",
       "        }    #T_aa609392_809b_11eb_95c0_e4029b1a06b6row6_col1 {\n",
       "            background-color:  #ffffff;\n",
       "            color:  #000000;\n",
       "        }    #T_aa609392_809b_11eb_95c0_e4029b1a06b6row6_col2 {\n",
       "            background-color:  #000000;\n",
       "            color:  #f1f1f1;\n",
       "        }    #T_aa609392_809b_11eb_95c0_e4029b1a06b6row7_col0 {\n",
       "            background-color:  #ffffff;\n",
       "            color:  #000000;\n",
       "        }    #T_aa609392_809b_11eb_95c0_e4029b1a06b6row7_col1 {\n",
       "            background-color:  #000000;\n",
       "            color:  #f1f1f1;\n",
       "        }    #T_aa609392_809b_11eb_95c0_e4029b1a06b6row7_col2 {\n",
       "            background-color:  #953283;\n",
       "            color:  #f1f1f1;\n",
       "        }    #T_aa609392_809b_11eb_95c0_e4029b1a06b6row8_col0 {\n",
       "            background-color:  #ffffff;\n",
       "            color:  #000000;\n",
       "        }    #T_aa609392_809b_11eb_95c0_e4029b1a06b6row8_col1 {\n",
       "            background-color:  #e6b114;\n",
       "            color:  #000000;\n",
       "        }    #T_aa609392_809b_11eb_95c0_e4029b1a06b6row8_col2 {\n",
       "            background-color:  #d13a4f;\n",
       "            color:  #f1f1f1;\n",
       "        }    #T_aa609392_809b_11eb_95c0_e4029b1a06b6row9_col0 {\n",
       "            background-color:  #ffffff;\n",
       "            color:  #000000;\n",
       "        }    #T_aa609392_809b_11eb_95c0_e4029b1a06b6row9_col1 {\n",
       "            background-color:  #000000;\n",
       "            color:  #f1f1f1;\n",
       "        }    #T_aa609392_809b_11eb_95c0_e4029b1a06b6row9_col2 {\n",
       "            background-color:  #953283;\n",
       "            color:  #f1f1f1;\n",
       "        }</style><table id=\"T_aa609392_809b_11eb_95c0_e4029b1a06b6\" ><thead>    <tr>        <th class=\"blank level0\" ></th>        <th class=\"col_heading level0 col0\" >year</th>        <th class=\"col_heading level0 col1\" >selling_price</th>        <th class=\"col_heading level0 col2\" >km_driven</th>        <th class=\"col_heading level0 col3\" >fuel</th>        <th class=\"col_heading level0 col4\" >transmission</th>        <th class=\"col_heading level0 col5\" >engine</th>    </tr></thead><tbody>\n",
       "                <tr>\n",
       "                        <th id=\"T_aa609392_809b_11eb_95c0_e4029b1a06b6level0_row0\" class=\"row_heading level0 row0\" >2002</th>\n",
       "                        <td id=\"T_aa609392_809b_11eb_95c0_e4029b1a06b6row0_col0\" class=\"data row0 col0\" >2016</td>\n",
       "                        <td id=\"T_aa609392_809b_11eb_95c0_e4029b1a06b6row0_col1\" class=\"data row0 col1\" >351000</td>\n",
       "                        <td id=\"T_aa609392_809b_11eb_95c0_e4029b1a06b6row0_col2\" class=\"data row0 col2\" >60000</td>\n",
       "                        <td id=\"T_aa609392_809b_11eb_95c0_e4029b1a06b6row0_col3\" class=\"data row0 col3\" >Petrol</td>\n",
       "                        <td id=\"T_aa609392_809b_11eb_95c0_e4029b1a06b6row0_col4\" class=\"data row0 col4\" >Manual</td>\n",
       "                        <td id=\"T_aa609392_809b_11eb_95c0_e4029b1a06b6row0_col5\" class=\"data row0 col5\" >998 CC</td>\n",
       "            </tr>\n",
       "            <tr>\n",
       "                        <th id=\"T_aa609392_809b_11eb_95c0_e4029b1a06b6level0_row1\" class=\"row_heading level0 row1\" >2009</th>\n",
       "                        <td id=\"T_aa609392_809b_11eb_95c0_e4029b1a06b6row1_col0\" class=\"data row1 col0\" >2016</td>\n",
       "                        <td id=\"T_aa609392_809b_11eb_95c0_e4029b1a06b6row1_col1\" class=\"data row1 col1\" >351000</td>\n",
       "                        <td id=\"T_aa609392_809b_11eb_95c0_e4029b1a06b6row1_col2\" class=\"data row1 col2\" >60000</td>\n",
       "                        <td id=\"T_aa609392_809b_11eb_95c0_e4029b1a06b6row1_col3\" class=\"data row1 col3\" >Petrol</td>\n",
       "                        <td id=\"T_aa609392_809b_11eb_95c0_e4029b1a06b6row1_col4\" class=\"data row1 col4\" >Manual</td>\n",
       "                        <td id=\"T_aa609392_809b_11eb_95c0_e4029b1a06b6row1_col5\" class=\"data row1 col5\" >998 CC</td>\n",
       "            </tr>\n",
       "            <tr>\n",
       "                        <th id=\"T_aa609392_809b_11eb_95c0_e4029b1a06b6level0_row2\" class=\"row_heading level0 row2\" >2000</th>\n",
       "                        <td id=\"T_aa609392_809b_11eb_95c0_e4029b1a06b6row2_col0\" class=\"data row2 col0\" >2014</td>\n",
       "                        <td id=\"T_aa609392_809b_11eb_95c0_e4029b1a06b6row2_col1\" class=\"data row2 col1\" >450000</td>\n",
       "                        <td id=\"T_aa609392_809b_11eb_95c0_e4029b1a06b6row2_col2\" class=\"data row2 col2\" >56000</td>\n",
       "                        <td id=\"T_aa609392_809b_11eb_95c0_e4029b1a06b6row2_col3\" class=\"data row2 col3\" >Diesel</td>\n",
       "                        <td id=\"T_aa609392_809b_11eb_95c0_e4029b1a06b6row2_col4\" class=\"data row2 col4\" >Manual</td>\n",
       "                        <td id=\"T_aa609392_809b_11eb_95c0_e4029b1a06b6row2_col5\" class=\"data row2 col5\" >1396 CC</td>\n",
       "            </tr>\n",
       "            <tr>\n",
       "                        <th id=\"T_aa609392_809b_11eb_95c0_e4029b1a06b6level0_row3\" class=\"row_heading level0 row3\" >2006</th>\n",
       "                        <td id=\"T_aa609392_809b_11eb_95c0_e4029b1a06b6row3_col0\" class=\"data row3 col0\" >2014</td>\n",
       "                        <td id=\"T_aa609392_809b_11eb_95c0_e4029b1a06b6row3_col1\" class=\"data row3 col1\" >411000</td>\n",
       "                        <td id=\"T_aa609392_809b_11eb_95c0_e4029b1a06b6row3_col2\" class=\"data row3 col2\" >90000</td>\n",
       "                        <td id=\"T_aa609392_809b_11eb_95c0_e4029b1a06b6row3_col3\" class=\"data row3 col3\" >Diesel</td>\n",
       "                        <td id=\"T_aa609392_809b_11eb_95c0_e4029b1a06b6row3_col4\" class=\"data row3 col4\" >Automatic</td>\n",
       "                        <td id=\"T_aa609392_809b_11eb_95c0_e4029b1a06b6row3_col5\" class=\"data row3 col5\" >1498 CC</td>\n",
       "            </tr>\n",
       "            <tr>\n",
       "                        <th id=\"T_aa609392_809b_11eb_95c0_e4029b1a06b6level0_row4\" class=\"row_heading level0 row4\" >2007</th>\n",
       "                        <td id=\"T_aa609392_809b_11eb_95c0_e4029b1a06b6row4_col0\" class=\"data row4 col0\" >2014</td>\n",
       "                        <td id=\"T_aa609392_809b_11eb_95c0_e4029b1a06b6row4_col1\" class=\"data row4 col1\" >450000</td>\n",
       "                        <td id=\"T_aa609392_809b_11eb_95c0_e4029b1a06b6row4_col2\" class=\"data row4 col2\" >56000</td>\n",
       "                        <td id=\"T_aa609392_809b_11eb_95c0_e4029b1a06b6row4_col3\" class=\"data row4 col3\" >Diesel</td>\n",
       "                        <td id=\"T_aa609392_809b_11eb_95c0_e4029b1a06b6row4_col4\" class=\"data row4 col4\" >Manual</td>\n",
       "                        <td id=\"T_aa609392_809b_11eb_95c0_e4029b1a06b6row4_col5\" class=\"data row4 col5\" >1396 CC</td>\n",
       "            </tr>\n",
       "            <tr>\n",
       "                        <th id=\"T_aa609392_809b_11eb_95c0_e4029b1a06b6level0_row5\" class=\"row_heading level0 row5\" >2004</th>\n",
       "                        <td id=\"T_aa609392_809b_11eb_95c0_e4029b1a06b6row5_col0\" class=\"data row5 col0\" >2013</td>\n",
       "                        <td id=\"T_aa609392_809b_11eb_95c0_e4029b1a06b6row5_col1\" class=\"data row5 col1\" >1300000</td>\n",
       "                        <td id=\"T_aa609392_809b_11eb_95c0_e4029b1a06b6row5_col2\" class=\"data row5 col2\" >140000</td>\n",
       "                        <td id=\"T_aa609392_809b_11eb_95c0_e4029b1a06b6row5_col3\" class=\"data row5 col3\" >Diesel</td>\n",
       "                        <td id=\"T_aa609392_809b_11eb_95c0_e4029b1a06b6row5_col4\" class=\"data row5 col4\" >Automatic</td>\n",
       "                        <td id=\"T_aa609392_809b_11eb_95c0_e4029b1a06b6row5_col5\" class=\"data row5 col5\" >1995 CC</td>\n",
       "            </tr>\n",
       "            <tr>\n",
       "                        <th id=\"T_aa609392_809b_11eb_95c0_e4029b1a06b6level0_row6\" class=\"row_heading level0 row6\" >2005</th>\n",
       "                        <td id=\"T_aa609392_809b_11eb_95c0_e4029b1a06b6row6_col0\" class=\"data row6 col0\" >2013</td>\n",
       "                        <td id=\"T_aa609392_809b_11eb_95c0_e4029b1a06b6row6_col1\" class=\"data row6 col1\" >260000</td>\n",
       "                        <td id=\"T_aa609392_809b_11eb_95c0_e4029b1a06b6row6_col2\" class=\"data row6 col2\" >189000</td>\n",
       "                        <td id=\"T_aa609392_809b_11eb_95c0_e4029b1a06b6row6_col3\" class=\"data row6 col3\" >Diesel</td>\n",
       "                        <td id=\"T_aa609392_809b_11eb_95c0_e4029b1a06b6row6_col4\" class=\"data row6 col4\" >Manual</td>\n",
       "                        <td id=\"T_aa609392_809b_11eb_95c0_e4029b1a06b6row6_col5\" class=\"data row6 col5\" >1248 CC</td>\n",
       "            </tr>\n",
       "            <tr>\n",
       "                        <th id=\"T_aa609392_809b_11eb_95c0_e4029b1a06b6level0_row7\" class=\"row_heading level0 row7\" >2001</th>\n",
       "                        <td id=\"T_aa609392_809b_11eb_95c0_e4029b1a06b6row7_col0\" class=\"data row7 col0\" >2012</td>\n",
       "                        <td id=\"T_aa609392_809b_11eb_95c0_e4029b1a06b6row7_col1\" class=\"data row7 col1\" >1300000</td>\n",
       "                        <td id=\"T_aa609392_809b_11eb_95c0_e4029b1a06b6row7_col2\" class=\"data row7 col2\" >140000</td>\n",
       "                        <td id=\"T_aa609392_809b_11eb_95c0_e4029b1a06b6row7_col3\" class=\"data row7 col3\" >Diesel</td>\n",
       "                        <td id=\"T_aa609392_809b_11eb_95c0_e4029b1a06b6row7_col4\" class=\"data row7 col4\" >Automatic</td>\n",
       "                        <td id=\"T_aa609392_809b_11eb_95c0_e4029b1a06b6row7_col5\" class=\"data row7 col5\" >1995 CC</td>\n",
       "            </tr>\n",
       "            <tr>\n",
       "                        <th id=\"T_aa609392_809b_11eb_95c0_e4029b1a06b6level0_row8\" class=\"row_heading level0 row8\" >2003</th>\n",
       "                        <td id=\"T_aa609392_809b_11eb_95c0_e4029b1a06b6row8_col0\" class=\"data row8 col0\" >2012</td>\n",
       "                        <td id=\"T_aa609392_809b_11eb_95c0_e4029b1a06b6row8_col1\" class=\"data row8 col1\" >550000</td>\n",
       "                        <td id=\"T_aa609392_809b_11eb_95c0_e4029b1a06b6row8_col2\" class=\"data row8 col2\" >130000</td>\n",
       "                        <td id=\"T_aa609392_809b_11eb_95c0_e4029b1a06b6row8_col3\" class=\"data row8 col3\" >Diesel</td>\n",
       "                        <td id=\"T_aa609392_809b_11eb_95c0_e4029b1a06b6row8_col4\" class=\"data row8 col4\" >Manual</td>\n",
       "                        <td id=\"T_aa609392_809b_11eb_95c0_e4029b1a06b6row8_col5\" class=\"data row8 col5\" >2179 CC</td>\n",
       "            </tr>\n",
       "            <tr>\n",
       "                        <th id=\"T_aa609392_809b_11eb_95c0_e4029b1a06b6level0_row9\" class=\"row_heading level0 row9\" >2008</th>\n",
       "                        <td id=\"T_aa609392_809b_11eb_95c0_e4029b1a06b6row9_col0\" class=\"data row9 col0\" >2012</td>\n",
       "                        <td id=\"T_aa609392_809b_11eb_95c0_e4029b1a06b6row9_col1\" class=\"data row9 col1\" >1300000</td>\n",
       "                        <td id=\"T_aa609392_809b_11eb_95c0_e4029b1a06b6row9_col2\" class=\"data row9 col2\" >140000</td>\n",
       "                        <td id=\"T_aa609392_809b_11eb_95c0_e4029b1a06b6row9_col3\" class=\"data row9 col3\" >Diesel</td>\n",
       "                        <td id=\"T_aa609392_809b_11eb_95c0_e4029b1a06b6row9_col4\" class=\"data row9 col4\" >Automatic</td>\n",
       "                        <td id=\"T_aa609392_809b_11eb_95c0_e4029b1a06b6row9_col5\" class=\"data row9 col5\" >1995 CC</td>\n",
       "            </tr>\n",
       "    </tbody></table>"
      ],
      "text/plain": [
       "<pandas.io.formats.style.Styler at 0x15416185310>"
      ]
     },
     "metadata": {},
     "output_type": "display_data"
    }
   ],
   "source": [
    "fact=df[df['sold']=='N'][['year','selling_price','km_driven','fuel','transmission','engine']]\n",
    "display(fact.head(10).sort_values(by='year',ascending=False).style.background_gradient(cmap='CMRmap_r'))"
   ]
  },
  {
   "cell_type": "markdown",
   "metadata": {},
   "source": [
    "### from the above display  we can infer that when the car is been sold or not then these factor affects the more \n",
    "- engine \n",
    "- year \n",
    "- km_driven"
   ]
  },
  {
   "cell_type": "markdown",
   "metadata": {},
   "source": [
    "# Which country has eco friendly cars and which brand manufactures it?"
   ]
  },
  {
   "cell_type": "code",
   "execution_count": 48,
   "metadata": {},
   "outputs": [],
   "source": [
    "eco=df[df['fuel']=='CNG'][['State or Province','name']]"
   ]
  },
  {
   "cell_type": "code",
   "execution_count": 49,
   "metadata": {},
   "outputs": [
    {
     "data": {
      "text/html": [
       "<div>\n",
       "<style scoped>\n",
       "    .dataframe tbody tr th:only-of-type {\n",
       "        vertical-align: middle;\n",
       "    }\n",
       "\n",
       "    .dataframe tbody tr th {\n",
       "        vertical-align: top;\n",
       "    }\n",
       "\n",
       "    .dataframe thead th {\n",
       "        text-align: right;\n",
       "    }\n",
       "</style>\n",
       "<table border=\"1\" class=\"dataframe\">\n",
       "  <thead>\n",
       "    <tr style=\"text-align: right;\">\n",
       "      <th></th>\n",
       "      <th>State or Province</th>\n",
       "      <th>name</th>\n",
       "    </tr>\n",
       "  </thead>\n",
       "  <tbody>\n",
       "    <tr>\n",
       "      <th>33</th>\n",
       "      <td>Washington</td>\n",
       "      <td>Maruti Alto 800 CNG LXI Optional</td>\n",
       "    </tr>\n",
       "    <tr>\n",
       "      <th>196</th>\n",
       "      <td>Illinois</td>\n",
       "      <td>Maruti Wagon R LXI CNG</td>\n",
       "    </tr>\n",
       "    <tr>\n",
       "      <th>388</th>\n",
       "      <td>Michigan</td>\n",
       "      <td>Maruti Eeco CNG 5 Seater AC</td>\n",
       "    </tr>\n",
       "    <tr>\n",
       "      <th>838</th>\n",
       "      <td>Georgia</td>\n",
       "      <td>Maruti Alto 800 CNG LXI</td>\n",
       "    </tr>\n",
       "    <tr>\n",
       "      <th>1187</th>\n",
       "      <td>Wisconsin</td>\n",
       "      <td>Maruti Eeco CNG 5 Seater AC BSIV</td>\n",
       "    </tr>\n",
       "  </tbody>\n",
       "</table>\n",
       "</div>"
      ],
      "text/plain": [
       "     State or Province                              name\n",
       "33          Washington  Maruti Alto 800 CNG LXI Optional\n",
       "196           Illinois            Maruti Wagon R LXI CNG\n",
       "388           Michigan       Maruti Eeco CNG 5 Seater AC\n",
       "838            Georgia           Maruti Alto 800 CNG LXI\n",
       "1187         Wisconsin  Maruti Eeco CNG 5 Seater AC BSIV"
      ]
     },
     "execution_count": 49,
     "metadata": {},
     "output_type": "execute_result"
    }
   ],
   "source": [
    "eco.head()"
   ]
  },
  {
   "cell_type": "code",
   "execution_count": 50,
   "metadata": {},
   "outputs": [],
   "source": [
    "eco['Brand']=df['name'].apply(lambda x:x.split()[0])"
   ]
  },
  {
   "cell_type": "code",
   "execution_count": 59,
   "metadata": {},
   "outputs": [],
   "source": [
    "final_eco= eco.drop(df[['name']],axis=1)"
   ]
  },
  {
   "cell_type": "code",
   "execution_count": 64,
   "metadata": {},
   "outputs": [
    {
     "data": {
      "text/html": [
       "<div>\n",
       "<style scoped>\n",
       "    .dataframe tbody tr th:only-of-type {\n",
       "        vertical-align: middle;\n",
       "    }\n",
       "\n",
       "    .dataframe tbody tr th {\n",
       "        vertical-align: top;\n",
       "    }\n",
       "\n",
       "    .dataframe thead th {\n",
       "        text-align: right;\n",
       "    }\n",
       "</style>\n",
       "<table border=\"1\" class=\"dataframe\">\n",
       "  <thead>\n",
       "    <tr style=\"text-align: right;\">\n",
       "      <th></th>\n",
       "      <th>State or Province</th>\n",
       "      <th>Brand</th>\n",
       "    </tr>\n",
       "  </thead>\n",
       "  <tbody>\n",
       "    <tr>\n",
       "      <th>33</th>\n",
       "      <td>Washington</td>\n",
       "      <td>Maruti</td>\n",
       "    </tr>\n",
       "    <tr>\n",
       "      <th>196</th>\n",
       "      <td>Illinois</td>\n",
       "      <td>Maruti</td>\n",
       "    </tr>\n",
       "    <tr>\n",
       "      <th>388</th>\n",
       "      <td>Michigan</td>\n",
       "      <td>Maruti</td>\n",
       "    </tr>\n",
       "    <tr>\n",
       "      <th>838</th>\n",
       "      <td>Georgia</td>\n",
       "      <td>Maruti</td>\n",
       "    </tr>\n",
       "    <tr>\n",
       "      <th>1187</th>\n",
       "      <td>Wisconsin</td>\n",
       "      <td>Maruti</td>\n",
       "    </tr>\n",
       "  </tbody>\n",
       "</table>\n",
       "</div>"
      ],
      "text/plain": [
       "     State or Province   Brand\n",
       "33          Washington  Maruti\n",
       "196           Illinois  Maruti\n",
       "388           Michigan  Maruti\n",
       "838            Georgia  Maruti\n",
       "1187         Wisconsin  Maruti"
      ]
     },
     "execution_count": 64,
     "metadata": {},
     "output_type": "execute_result"
    }
   ],
   "source": [
    "final_eco.head()"
   ]
  },
  {
   "cell_type": "code",
   "execution_count": 70,
   "metadata": {},
   "outputs": [
    {
     "data": {
      "text/plain": [
       "State or Province  Brand  \n",
       "California         Maruti     5\n",
       "Illinois           Maruti     5\n",
       "Michigan           Maruti     4\n",
       "Tennessee          Maruti     3\n",
       "New York           Maruti     3\n",
       "Illinois           Hyundai    2\n",
       "Kansas             Maruti     2\n",
       "South Carolina     Maruti     2\n",
       "Pennsylvania       Maruti     2\n",
       "Oklahoma           Maruti     2\n",
       "Florida            Maruti     2\n",
       "Indiana            Maruti     1\n",
       "Wisconsin          Maruti     1\n",
       "Georgia            Maruti     1\n",
       "Massachusetts      Maruti     1\n",
       "Connecticut        Tata       1\n",
       "Colorado           Maruti     1\n",
       "Florida            Hyundai    1\n",
       "Mississippi        Maruti     1\n",
       "Michigan           Hyundai    1\n",
       "Minnesota          Maruti     1\n",
       "Washington         Maruti     1\n",
       "New Hampshire      Maruti     1\n",
       "New Jersey         Maruti     1\n",
       "New Mexico         Maruti     1\n",
       "North Carolina     Maruti     1\n",
       "Ohio               Maruti     1\n",
       "Oregon             Maruti     1\n",
       "Texas              Maruti     1\n",
       "Utah               Maruti     1\n",
       "Alabama            Maruti     1\n",
       "Name: Brand, dtype: int64"
      ]
     },
     "execution_count": 70,
     "metadata": {},
     "output_type": "execute_result"
    }
   ],
   "source": [
    "final_eco.groupby(['State or Province','Brand'])['Brand'].agg('count').sort_values(ascending=False)"
   ]
  },
  {
   "cell_type": "markdown",
   "metadata": {},
   "source": [
    "### Fom the above analysis we infer that california is the State or Province who uses more CNG cars and the Brand which manufactures the most CNG cars is Maruti "
   ]
  },
  {
   "cell_type": "markdown",
   "metadata": {},
   "source": [
    "# Which seller type has more sales?"
   ]
  },
  {
   "cell_type": "code",
   "execution_count": 77,
   "metadata": {},
   "outputs": [
    {
     "data": {
      "image/png": "[encoded data removed]",
      "text/plain": [
       "<Figure size 432x288 with 1 Axes>"
      ]
     },
     "metadata": {
      "needs_background": "light"
     },
     "output_type": "display_data"
    }
   ],
   "source": [
    "x = df.groupby('seller_type').selling_price.sum()\n",
    "fig = plt.figure()\n",
    "axiss1 = fig.add_subplot(1,1,1)\n",
    "axiss1.set_xlabel('Seller Type')\n",
    "axiss1.set_ylabel('Price')\n",
    "axiss1.set_title('Seller Type vs Price')\n",
    "x.plot(kind='bar');"
   ]
  },
  {
   "cell_type": "code",
   "execution_count": 78,
   "metadata": {},
   "outputs": [
    {
     "data": {
      "text/plain": [
       "seller_type\n",
       "Dealer              1616119957\n",
       "Individual          3332073320\n",
       "Trustmark Dealer     189234000\n",
       "Name: selling_price, dtype: int64"
      ]
     },
     "execution_count": 78,
     "metadata": {},
     "output_type": "execute_result"
    }
   ],
   "source": [
    "x"
   ]
  },
  {
   "cell_type": "markdown",
   "metadata": {},
   "source": [
    "### We have infered from the above plot individual sales have more sales"
   ]
  },
  {
   "cell_type": "markdown",
   "metadata": {},
   "source": [
    "# What are the to 10 cars?"
   ]
  },
  {
   "cell_type": "code",
   "execution_count": 80,
   "metadata": {},
   "outputs": [
    {
     "data": {
      "text/plain": [
       "<matplotlib.axes._subplots.AxesSubplot at 0x15416422430>"
      ]
     },
     "execution_count": 80,
     "metadata": {},
     "output_type": "execute_result"
    },
    {
     "data": {
      "image/png": "[encoded data removed]",
      "text/plain": [
       "<Figure size 432x288 with 1 Axes>"
      ]
     },
     "metadata": {
      "needs_background": "light"
     },
     "output_type": "display_data"
    }
   ],
   "source": [
    "df.name.value_counts().head(10).plot.bar()"
   ]
  },
  {
   "cell_type": "markdown",
   "metadata": {},
   "source": [
    "### Above plot shows the top 10 cars in which maruti swift dzire VDI is 1st"
   ]
  },
  {
   "cell_type": "code",
   "execution_count": null,
   "metadata": {},
   "outputs": [],
   "source": []
  }
 ],
 "metadata": {
  "kernelspec": {
   "display_name": "Python 3",
   "language": "python",
   "name": "python3"
  },
  "language_info": {
   "codemirror_mode": {
    "name": "ipython",
    "version": 3
   },
   "file_extension": ".py",
   "mimetype": "text/x-python",
   "name": "python",
   "nbconvert_exporter": "python",
   "pygments_lexer": "ipython3",
   "version": "3.8.3"
  }
 },
 "nbformat": 4,
 "nbformat_minor": 4
}
